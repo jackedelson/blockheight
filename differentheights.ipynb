{
 "cells": [
  {
   "cell_type": "code",
   "execution_count": 2,
   "metadata": {},
   "outputs": [
    {
     "name": "stdout",
     "output_type": "stream",
     "text": [
      "[[0.32247528 0.3752258  0.42751916 0.47929166]]\n",
      "[[1.08247528 1.1352258  1.18751916 1.23929166]]\n",
      "[[1.84247528 1.8952258  1.94751916 1.99929166]]\n",
      "[[2.60247528 2.6552258  2.70751916 2.75929166]]\n",
      "[[3.36247528 3.4152258  3.46751916 3.51929166]]\n",
      "[[4.12247528 4.1752258  4.22751916 4.27929166]]\n",
      "[[4.88247528 4.9352258  4.98751916 5.03929166]]\n"
     ]
    }
   ],
   "source": [
    "import numpy as np  \n",
    "\n",
    "v = 7.6\n",
    "g = 9.80\n",
    "\n",
    "theta = np.arange(12,20,2)[None,:]/180.0*(np.pi)\n",
    "\n",
    "h = 0.0\n",
    "tmax = h + ((2 * v) * np.sin(theta)) / g\n",
    "vecT = tmax*np.linspace(0,1,100)[:,None]\n",
    "\n",
    "for h in np.arange(0.0,5.0,0.76):\n",
    "    tmax = h + ((2 * v) * np.sin(theta)) / g\n",
    "    print(tmax)"
   ]
  },
  {
   "cell_type": "code",
   "execution_count": null,
   "metadata": {},
   "outputs": [],
   "source": []
  }
 ],
 "metadata": {
  "kernelspec": {
   "display_name": "Python 3",
   "language": "python",
   "name": "python3"
  },
  "language_info": {
   "codemirror_mode": {
    "name": "ipython",
    "version": 3
   },
   "file_extension": ".py",
   "mimetype": "text/x-python",
   "name": "python",
   "nbconvert_exporter": "python",
   "pygments_lexer": "ipython3",
   "version": "3.7.4"
  }
 },
 "nbformat": 4,
 "nbformat_minor": 4
}
